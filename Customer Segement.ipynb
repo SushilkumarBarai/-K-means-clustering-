{
 "cells": [
  {
   "cell_type": "markdown",
   "metadata": {},
   "source": [
    "# Bank classifies the name as per salary,age and Approach for a huge amount loan and company earn interset from that Using K-means clustering .\n"
   ]
  },
  {
   "cell_type": "code",
   "execution_count": 1,
   "metadata": {},
   "outputs": [],
   "source": [
    "from sklearn.cluster import KMeans\n",
    "import pandas as pd\n",
    "from sklearn.preprocessing import MinMaxScaler\n",
    "from matplotlib import pyplot as plt\n",
    "%matplotlib inline"
   ]
  },
  {
   "cell_type": "code",
   "execution_count": 2,
   "metadata": {},
   "outputs": [
    {
     "data": {
      "text/html": [
       "<div>\n",
       "<style scoped>\n",
       "    .dataframe tbody tr th:only-of-type {\n",
       "        vertical-align: middle;\n",
       "    }\n",
       "\n",
       "    .dataframe tbody tr th {\n",
       "        vertical-align: top;\n",
       "    }\n",
       "\n",
       "    .dataframe thead th {\n",
       "        text-align: right;\n",
       "    }\n",
       "</style>\n",
       "<table border=\"1\" class=\"dataframe\">\n",
       "  <thead>\n",
       "    <tr style=\"text-align: right;\">\n",
       "      <th></th>\n",
       "      <th>Name</th>\n",
       "      <th>Age</th>\n",
       "      <th>Income</th>\n",
       "    </tr>\n",
       "  </thead>\n",
       "  <tbody>\n",
       "    <tr>\n",
       "      <td>0</td>\n",
       "      <td>Rob</td>\n",
       "      <td>27</td>\n",
       "      <td>70000</td>\n",
       "    </tr>\n",
       "    <tr>\n",
       "      <td>1</td>\n",
       "      <td>Michael</td>\n",
       "      <td>29</td>\n",
       "      <td>90000</td>\n",
       "    </tr>\n",
       "    <tr>\n",
       "      <td>2</td>\n",
       "      <td>Mohan</td>\n",
       "      <td>29</td>\n",
       "      <td>61000</td>\n",
       "    </tr>\n",
       "    <tr>\n",
       "      <td>3</td>\n",
       "      <td>Ismail</td>\n",
       "      <td>28</td>\n",
       "      <td>60000</td>\n",
       "    </tr>\n",
       "    <tr>\n",
       "      <td>4</td>\n",
       "      <td>Kory</td>\n",
       "      <td>42</td>\n",
       "      <td>150000</td>\n",
       "    </tr>\n",
       "  </tbody>\n",
       "</table>\n",
       "</div>"
      ],
      "text/plain": [
       "      Name  Age  Income\n",
       "0      Rob   27   70000\n",
       "1  Michael   29   90000\n",
       "2    Mohan   29   61000\n",
       "3   Ismail   28   60000\n",
       "4     Kory   42  150000"
      ]
     },
     "execution_count": 2,
     "metadata": {},
     "output_type": "execute_result"
    }
   ],
   "source": [
    "df = pd.read_csv(\"cusseg.csv\")\n",
    "df.head()"
   ]
  },
  {
   "cell_type": "code",
   "execution_count": 3,
   "metadata": {},
   "outputs": [
    {
     "data": {
      "text/plain": [
       "Text(0, 0.5, 'Income')"
      ]
     },
     "execution_count": 3,
     "metadata": {},
     "output_type": "execute_result"
    },
    {
     "data": {
      "image/png": "[encoded data removed]",
      "text/plain": [
       "<Figure size 432x288 with 1 Axes>"
      ]
     },
     "metadata": {
      "needs_background": "light"
     },
     "output_type": "display_data"
    }
   ],
   "source": [
    "plt.scatter(df.Age,df['Income'])\n",
    "plt.xlabel('Age')\n",
    "plt.ylabel('Income')"
   ]
  },
  {
   "cell_type": "code",
   "execution_count": 4,
   "metadata": {},
   "outputs": [
    {
     "data": {
      "text/plain": [
       "array([3, 3, 3, 3, 1, 1, 1, 1, 1, 4, 4, 0, 0, 0, 0, 0, 3, 3, 3, 3, 1, 3,\n",
       "       2, 2, 0, 0, 2, 2, 2, 0, 0, 2, 2, 0, 2, 0, 0, 0, 0, 0])"
      ]
     },
     "execution_count": 4,
     "metadata": {},
     "output_type": "execute_result"
    }
   ],
   "source": [
    "km = KMeans(n_clusters=5)\n",
    "y_predicted = km.fit_predict(df[['Age','Income']]) #Age and income column as input\n",
    "y_predicted"
   ]
  },
  {
   "cell_type": "code",
   "execution_count": 5,
   "metadata": {},
   "outputs": [
    {
     "data": {
      "text/html": [
       "<div>\n",
       "<style scoped>\n",
       "    .dataframe tbody tr th:only-of-type {\n",
       "        vertical-align: middle;\n",
       "    }\n",
       "\n",
       "    .dataframe tbody tr th {\n",
       "        vertical-align: top;\n",
       "    }\n",
       "\n",
       "    .dataframe thead th {\n",
       "        text-align: right;\n",
       "    }\n",
       "</style>\n",
       "<table border=\"1\" class=\"dataframe\">\n",
       "  <thead>\n",
       "    <tr style=\"text-align: right;\">\n",
       "      <th></th>\n",
       "      <th>Name</th>\n",
       "      <th>Age</th>\n",
       "      <th>Income</th>\n",
       "      <th>cluster</th>\n",
       "    </tr>\n",
       "  </thead>\n",
       "  <tbody>\n",
       "    <tr>\n",
       "      <td>0</td>\n",
       "      <td>Rob</td>\n",
       "      <td>27</td>\n",
       "      <td>70000</td>\n",
       "      <td>3</td>\n",
       "    </tr>\n",
       "    <tr>\n",
       "      <td>1</td>\n",
       "      <td>Michael</td>\n",
       "      <td>29</td>\n",
       "      <td>90000</td>\n",
       "      <td>3</td>\n",
       "    </tr>\n",
       "    <tr>\n",
       "      <td>2</td>\n",
       "      <td>Mohan</td>\n",
       "      <td>29</td>\n",
       "      <td>61000</td>\n",
       "      <td>3</td>\n",
       "    </tr>\n",
       "    <tr>\n",
       "      <td>3</td>\n",
       "      <td>Ismail</td>\n",
       "      <td>28</td>\n",
       "      <td>60000</td>\n",
       "      <td>3</td>\n",
       "    </tr>\n",
       "    <tr>\n",
       "      <td>4</td>\n",
       "      <td>Kory</td>\n",
       "      <td>42</td>\n",
       "      <td>150000</td>\n",
       "      <td>1</td>\n",
       "    </tr>\n",
       "    <tr>\n",
       "      <td>5</td>\n",
       "      <td>Gautam</td>\n",
       "      <td>39</td>\n",
       "      <td>155000</td>\n",
       "      <td>1</td>\n",
       "    </tr>\n",
       "    <tr>\n",
       "      <td>6</td>\n",
       "      <td>David</td>\n",
       "      <td>41</td>\n",
       "      <td>160000</td>\n",
       "      <td>1</td>\n",
       "    </tr>\n",
       "    <tr>\n",
       "      <td>7</td>\n",
       "      <td>Andrea</td>\n",
       "      <td>38</td>\n",
       "      <td>162000</td>\n",
       "      <td>1</td>\n",
       "    </tr>\n",
       "    <tr>\n",
       "      <td>8</td>\n",
       "      <td>Brad</td>\n",
       "      <td>36</td>\n",
       "      <td>156000</td>\n",
       "      <td>1</td>\n",
       "    </tr>\n",
       "    <tr>\n",
       "      <td>9</td>\n",
       "      <td>Angelina</td>\n",
       "      <td>35</td>\n",
       "      <td>130000</td>\n",
       "      <td>4</td>\n",
       "    </tr>\n",
       "  </tbody>\n",
       "</table>\n",
       "</div>"
      ],
      "text/plain": [
       "       Name  Age  Income  cluster\n",
       "0       Rob   27   70000        3\n",
       "1   Michael   29   90000        3\n",
       "2     Mohan   29   61000        3\n",
       "3    Ismail   28   60000        3\n",
       "4      Kory   42  150000        1\n",
       "5    Gautam   39  155000        1\n",
       "6     David   41  160000        1\n",
       "7    Andrea   38  162000        1\n",
       "8      Brad   36  156000        1\n",
       "9  Angelina   35  130000        4"
      ]
     },
     "execution_count": 5,
     "metadata": {},
     "output_type": "execute_result"
    }
   ],
   "source": [
    "df['cluster']=y_predicted\n",
    "df.head(10)"
   ]
  },
  {
   "cell_type": "code",
   "execution_count": 6,
   "metadata": {},
   "outputs": [
    {
     "data": {
      "text/plain": [
       "array([[4.12666667e+01, 4.47666667e+04],\n",
       "       [3.95000000e+01, 1.60833333e+05],\n",
       "       [3.71250000e+01, 7.97500000e+03],\n",
       "       [3.50000000e+01, 6.78888889e+04],\n",
       "       [3.60000000e+01, 1.33500000e+05]])"
      ]
     },
     "execution_count": 6,
     "metadata": {},
     "output_type": "execute_result"
    }
   ],
   "source": [
    "km.cluster_centers_"
   ]
  },
  {
   "cell_type": "code",
   "execution_count": 7,
   "metadata": {},
   "outputs": [
    {
     "data": {
      "text/plain": [
       "<matplotlib.legend.Legend at 0x20fdb0a5888>"
      ]
     },
     "execution_count": 7,
     "metadata": {},
     "output_type": "execute_result"
    },
    {
     "data": {
      "image/png": "[encoded data removed]",
      "text/plain": [
       "<Figure size 432x288 with 1 Axes>"
      ]
     },
     "metadata": {
      "needs_background": "light"
     },
     "output_type": "display_data"
    }
   ],
   "source": [
    "df1 = df[df.cluster==0]\n",
    "df2 = df[df.cluster==1]\n",
    "df3 = df[df.cluster==2]\n",
    "df4 = df[df.cluster==3]\n",
    "df5 = df[df.cluster==4]\n",
    "plt.scatter(df1.Age,df1['Income'],color='green')\n",
    "plt.scatter(df2.Age,df2['Income'],color='red')\n",
    "plt.scatter(df3.Age,df3['Income'],color='black')\n",
    "plt.scatter(df4.Age,df4['Income'],color='blue')\n",
    "plt.scatter(df5.Age,df5['Income'],color='orange')\n",
    "plt.scatter(km.cluster_centers_[:,0],km.cluster_centers_[:,1],color='purple',marker='*',label='centroid')\n",
    "plt.xlabel('Age')\n",
    "plt.ylabel('Income')\n",
    "plt.legend()"
   ]
  },
  {
   "cell_type": "code",
   "execution_count": 8,
   "metadata": {},
   "outputs": [
    {
     "name": "stdout",
     "output_type": "stream",
     "text": [
      "      Name  Age  Income  cluster\n",
      "11     Tom   26   45000        0\n",
      "12  Arnold   27   48000        0\n",
      "13   Jared   28   51000        0\n",
      "14   Stark   29   49500        0\n",
      "15  Ranbir   32   53000        0\n",
      "24    sham   50   45000        0\n",
      "25    nick   45   40000        0\n",
      "29    luci   35   35000        0\n",
      "30    loca   47   47000        0\n",
      "33   carry   44   40000        0\n",
      "35  lusica   66   52000        0\n",
      "36   ahemd   62   45000        0\n",
      "37    amol   42   39000        0\n",
      "38   ghini   38   50000        0\n",
      "39   rocky   48   32000        0\n",
      "      Name  Age  Income  cluster\n",
      "4     Kory   42  150000        1\n",
      "5   Gautam   39  155000        1\n",
      "6    David   41  160000        1\n",
      "7   Andrea   38  162000        1\n",
      "8     Brad   36  156000        1\n",
      "20     Sid   41  182000        1\n",
      "     Name  Age  Income  cluster\n",
      "22   jay    19   10000        2\n",
      "23    ram   20   15000        2\n",
      "26    bob   78    4500        2\n",
      "27    ana   25    2300        2\n",
      "28  alice   45    4000        2\n",
      "31  David   55    5000        2\n",
      "32    sam   22   20000        2\n",
      "34   jhon   33    3000        2\n",
      "        Name  Age  Income  cluster\n",
      "0        Rob   27   70000        3\n",
      "1    Michael   29   90000        3\n",
      "2      Mohan   29   61000        3\n",
      "3     Ismail   28   60000        3\n",
      "16    Dipika   40   65000        3\n",
      "17  Priyanka   41   63000        3\n",
      "18      Nick   43   64000        3\n",
      "19      Alia   39   80000        3\n",
      "21     Abdul   39   58000        3\n",
      "        Name  Age  Income  cluster\n",
      "9   Angelina   35  130000        4\n",
      "10    Donald   37  137000        4\n"
     ]
    }
   ],
   "source": [
    "print(df1.head(50))\n",
    "print(df2.head(50))\n",
    "print(df3.head(50))\n",
    "print(df4.head(50))\n",
    "print(df5.head(50))"
   ]
  },
  {
   "cell_type": "markdown",
   "metadata": {},
   "source": [
    "# Preprocessing scaller"
   ]
  },
  {
   "cell_type": "code",
   "execution_count": 9,
   "metadata": {},
   "outputs": [],
   "source": [
    "scaler = MinMaxScaler()\n",
    "\n",
    "scaler.fit(df[['Income']])\n",
    "df['Income'] = scaler.transform(df[['Income']])\n",
    "\n",
    "scaler.fit(df[['Age']])\n",
    "df['Age'] = scaler.transform(df[['Age']])"
   ]
  },
  {
   "cell_type": "code",
   "execution_count": 10,
   "metadata": {},
   "outputs": [
    {
     "data": {
      "text/html": [
       "<div>\n",
       "<style scoped>\n",
       "    .dataframe tbody tr th:only-of-type {\n",
       "        vertical-align: middle;\n",
       "    }\n",
       "\n",
       "    .dataframe tbody tr th {\n",
       "        vertical-align: top;\n",
       "    }\n",
       "\n",
       "    .dataframe thead th {\n",
       "        text-align: right;\n",
       "    }\n",
       "</style>\n",
       "<table border=\"1\" class=\"dataframe\">\n",
       "  <thead>\n",
       "    <tr style=\"text-align: right;\">\n",
       "      <th></th>\n",
       "      <th>Name</th>\n",
       "      <th>Age</th>\n",
       "      <th>Income</th>\n",
       "      <th>cluster</th>\n",
       "    </tr>\n",
       "  </thead>\n",
       "  <tbody>\n",
       "    <tr>\n",
       "      <td>0</td>\n",
       "      <td>Rob</td>\n",
       "      <td>0.135593</td>\n",
       "      <td>0.376739</td>\n",
       "      <td>3</td>\n",
       "    </tr>\n",
       "    <tr>\n",
       "      <td>1</td>\n",
       "      <td>Michael</td>\n",
       "      <td>0.169492</td>\n",
       "      <td>0.488036</td>\n",
       "      <td>3</td>\n",
       "    </tr>\n",
       "    <tr>\n",
       "      <td>2</td>\n",
       "      <td>Mohan</td>\n",
       "      <td>0.169492</td>\n",
       "      <td>0.326656</td>\n",
       "      <td>3</td>\n",
       "    </tr>\n",
       "    <tr>\n",
       "      <td>3</td>\n",
       "      <td>Ismail</td>\n",
       "      <td>0.152542</td>\n",
       "      <td>0.321091</td>\n",
       "      <td>3</td>\n",
       "    </tr>\n",
       "    <tr>\n",
       "      <td>4</td>\n",
       "      <td>Kory</td>\n",
       "      <td>0.389831</td>\n",
       "      <td>0.821925</td>\n",
       "      <td>1</td>\n",
       "    </tr>\n",
       "  </tbody>\n",
       "</table>\n",
       "</div>"
      ],
      "text/plain": [
       "      Name       Age    Income  cluster\n",
       "0      Rob  0.135593  0.376739        3\n",
       "1  Michael  0.169492  0.488036        3\n",
       "2    Mohan  0.169492  0.326656        3\n",
       "3   Ismail  0.152542  0.321091        3\n",
       "4     Kory  0.389831  0.821925        1"
      ]
     },
     "execution_count": 10,
     "metadata": {},
     "output_type": "execute_result"
    }
   ],
   "source": [
    "df.head()"
   ]
  },
  {
   "cell_type": "code",
   "execution_count": 11,
   "metadata": {},
   "outputs": [
    {
     "data": {
      "text/plain": [
       "<matplotlib.collections.PathCollection at 0x20fdb0a94c8>"
      ]
     },
     "execution_count": 11,
     "metadata": {},
     "output_type": "execute_result"
    },
    {
     "data": {
      "image/png": "[encoded data removed]",
      "text/plain": [
       "<Figure size 432x288 with 1 Axes>"
      ]
     },
     "metadata": {
      "needs_background": "light"
     },
     "output_type": "display_data"
    }
   ],
   "source": [
    "plt.scatter(df.Age,df['Income'])"
   ]
  },
  {
   "cell_type": "code",
   "execution_count": 12,
   "metadata": {},
   "outputs": [
    {
     "data": {
      "text/plain": [
       "array([4, 4, 4, 4, 0, 0, 0, 0, 0, 0, 0, 4, 4, 4, 4, 4, 2, 2, 2, 2, 0, 2,\n",
       "       1, 1, 2, 2, 3, 1, 2, 2, 2, 3, 1, 2, 1, 3, 3, 2, 2, 2])"
      ]
     },
     "execution_count": 12,
     "metadata": {},
     "output_type": "execute_result"
    }
   ],
   "source": [
    "km = KMeans(n_clusters=5)\n",
    "y_predicted = km.fit_predict(df[['Age','Income']])\n",
    "y_predicted"
   ]
  },
  {
   "cell_type": "code",
   "execution_count": 13,
   "metadata": {},
   "outputs": [
    {
     "data": {
      "text/html": [
       "<div>\n",
       "<style scoped>\n",
       "    .dataframe tbody tr th:only-of-type {\n",
       "        vertical-align: middle;\n",
       "    }\n",
       "\n",
       "    .dataframe tbody tr th {\n",
       "        vertical-align: top;\n",
       "    }\n",
       "\n",
       "    .dataframe thead th {\n",
       "        text-align: right;\n",
       "    }\n",
       "</style>\n",
       "<table border=\"1\" class=\"dataframe\">\n",
       "  <thead>\n",
       "    <tr style=\"text-align: right;\">\n",
       "      <th></th>\n",
       "      <th>Name</th>\n",
       "      <th>Age</th>\n",
       "      <th>Income</th>\n",
       "      <th>cluster</th>\n",
       "    </tr>\n",
       "  </thead>\n",
       "  <tbody>\n",
       "    <tr>\n",
       "      <td>0</td>\n",
       "      <td>Rob</td>\n",
       "      <td>0.135593</td>\n",
       "      <td>0.376739</td>\n",
       "      <td>4</td>\n",
       "    </tr>\n",
       "    <tr>\n",
       "      <td>1</td>\n",
       "      <td>Michael</td>\n",
       "      <td>0.169492</td>\n",
       "      <td>0.488036</td>\n",
       "      <td>4</td>\n",
       "    </tr>\n",
       "    <tr>\n",
       "      <td>2</td>\n",
       "      <td>Mohan</td>\n",
       "      <td>0.169492</td>\n",
       "      <td>0.326656</td>\n",
       "      <td>4</td>\n",
       "    </tr>\n",
       "    <tr>\n",
       "      <td>3</td>\n",
       "      <td>Ismail</td>\n",
       "      <td>0.152542</td>\n",
       "      <td>0.321091</td>\n",
       "      <td>4</td>\n",
       "    </tr>\n",
       "    <tr>\n",
       "      <td>4</td>\n",
       "      <td>Kory</td>\n",
       "      <td>0.389831</td>\n",
       "      <td>0.821925</td>\n",
       "      <td>0</td>\n",
       "    </tr>\n",
       "    <tr>\n",
       "      <td>5</td>\n",
       "      <td>Gautam</td>\n",
       "      <td>0.338983</td>\n",
       "      <td>0.849750</td>\n",
       "      <td>0</td>\n",
       "    </tr>\n",
       "    <tr>\n",
       "      <td>6</td>\n",
       "      <td>David</td>\n",
       "      <td>0.372881</td>\n",
       "      <td>0.877574</td>\n",
       "      <td>0</td>\n",
       "    </tr>\n",
       "    <tr>\n",
       "      <td>7</td>\n",
       "      <td>Andrea</td>\n",
       "      <td>0.322034</td>\n",
       "      <td>0.888703</td>\n",
       "      <td>0</td>\n",
       "    </tr>\n",
       "    <tr>\n",
       "      <td>8</td>\n",
       "      <td>Brad</td>\n",
       "      <td>0.288136</td>\n",
       "      <td>0.855314</td>\n",
       "      <td>0</td>\n",
       "    </tr>\n",
       "    <tr>\n",
       "      <td>9</td>\n",
       "      <td>Angelina</td>\n",
       "      <td>0.271186</td>\n",
       "      <td>0.710629</td>\n",
       "      <td>0</td>\n",
       "    </tr>\n",
       "    <tr>\n",
       "      <td>10</td>\n",
       "      <td>Donald</td>\n",
       "      <td>0.305085</td>\n",
       "      <td>0.749583</td>\n",
       "      <td>0</td>\n",
       "    </tr>\n",
       "    <tr>\n",
       "      <td>11</td>\n",
       "      <td>Tom</td>\n",
       "      <td>0.118644</td>\n",
       "      <td>0.237618</td>\n",
       "      <td>4</td>\n",
       "    </tr>\n",
       "    <tr>\n",
       "      <td>12</td>\n",
       "      <td>Arnold</td>\n",
       "      <td>0.135593</td>\n",
       "      <td>0.254313</td>\n",
       "      <td>4</td>\n",
       "    </tr>\n",
       "    <tr>\n",
       "      <td>13</td>\n",
       "      <td>Jared</td>\n",
       "      <td>0.152542</td>\n",
       "      <td>0.271007</td>\n",
       "      <td>4</td>\n",
       "    </tr>\n",
       "    <tr>\n",
       "      <td>14</td>\n",
       "      <td>Stark</td>\n",
       "      <td>0.169492</td>\n",
       "      <td>0.262660</td>\n",
       "      <td>4</td>\n",
       "    </tr>\n",
       "    <tr>\n",
       "      <td>15</td>\n",
       "      <td>Ranbir</td>\n",
       "      <td>0.220339</td>\n",
       "      <td>0.282137</td>\n",
       "      <td>4</td>\n",
       "    </tr>\n",
       "    <tr>\n",
       "      <td>16</td>\n",
       "      <td>Dipika</td>\n",
       "      <td>0.355932</td>\n",
       "      <td>0.348915</td>\n",
       "      <td>2</td>\n",
       "    </tr>\n",
       "    <tr>\n",
       "      <td>17</td>\n",
       "      <td>Priyanka</td>\n",
       "      <td>0.372881</td>\n",
       "      <td>0.337785</td>\n",
       "      <td>2</td>\n",
       "    </tr>\n",
       "    <tr>\n",
       "      <td>18</td>\n",
       "      <td>Nick</td>\n",
       "      <td>0.406780</td>\n",
       "      <td>0.343350</td>\n",
       "      <td>2</td>\n",
       "    </tr>\n",
       "    <tr>\n",
       "      <td>19</td>\n",
       "      <td>Alia</td>\n",
       "      <td>0.338983</td>\n",
       "      <td>0.432387</td>\n",
       "      <td>2</td>\n",
       "    </tr>\n",
       "    <tr>\n",
       "      <td>20</td>\n",
       "      <td>Sid</td>\n",
       "      <td>0.372881</td>\n",
       "      <td>1.000000</td>\n",
       "      <td>0</td>\n",
       "    </tr>\n",
       "    <tr>\n",
       "      <td>21</td>\n",
       "      <td>Abdul</td>\n",
       "      <td>0.338983</td>\n",
       "      <td>0.309961</td>\n",
       "      <td>2</td>\n",
       "    </tr>\n",
       "    <tr>\n",
       "      <td>22</td>\n",
       "      <td>jay</td>\n",
       "      <td>0.000000</td>\n",
       "      <td>0.042849</td>\n",
       "      <td>1</td>\n",
       "    </tr>\n",
       "    <tr>\n",
       "      <td>23</td>\n",
       "      <td>ram</td>\n",
       "      <td>0.016949</td>\n",
       "      <td>0.070673</td>\n",
       "      <td>1</td>\n",
       "    </tr>\n",
       "    <tr>\n",
       "      <td>24</td>\n",
       "      <td>sham</td>\n",
       "      <td>0.525424</td>\n",
       "      <td>0.237618</td>\n",
       "      <td>2</td>\n",
       "    </tr>\n",
       "    <tr>\n",
       "      <td>25</td>\n",
       "      <td>nick</td>\n",
       "      <td>0.440678</td>\n",
       "      <td>0.209794</td>\n",
       "      <td>2</td>\n",
       "    </tr>\n",
       "    <tr>\n",
       "      <td>26</td>\n",
       "      <td>bob</td>\n",
       "      <td>1.000000</td>\n",
       "      <td>0.012243</td>\n",
       "      <td>3</td>\n",
       "    </tr>\n",
       "    <tr>\n",
       "      <td>27</td>\n",
       "      <td>ana</td>\n",
       "      <td>0.101695</td>\n",
       "      <td>0.000000</td>\n",
       "      <td>1</td>\n",
       "    </tr>\n",
       "    <tr>\n",
       "      <td>28</td>\n",
       "      <td>alice</td>\n",
       "      <td>0.440678</td>\n",
       "      <td>0.009460</td>\n",
       "      <td>2</td>\n",
       "    </tr>\n",
       "    <tr>\n",
       "      <td>29</td>\n",
       "      <td>luci</td>\n",
       "      <td>0.271186</td>\n",
       "      <td>0.181970</td>\n",
       "      <td>2</td>\n",
       "    </tr>\n",
       "    <tr>\n",
       "      <td>30</td>\n",
       "      <td>loca</td>\n",
       "      <td>0.474576</td>\n",
       "      <td>0.248748</td>\n",
       "      <td>2</td>\n",
       "    </tr>\n",
       "    <tr>\n",
       "      <td>31</td>\n",
       "      <td>David</td>\n",
       "      <td>0.610169</td>\n",
       "      <td>0.015025</td>\n",
       "      <td>3</td>\n",
       "    </tr>\n",
       "    <tr>\n",
       "      <td>32</td>\n",
       "      <td>sam</td>\n",
       "      <td>0.050847</td>\n",
       "      <td>0.098497</td>\n",
       "      <td>1</td>\n",
       "    </tr>\n",
       "    <tr>\n",
       "      <td>33</td>\n",
       "      <td>carry</td>\n",
       "      <td>0.423729</td>\n",
       "      <td>0.209794</td>\n",
       "      <td>2</td>\n",
       "    </tr>\n",
       "    <tr>\n",
       "      <td>34</td>\n",
       "      <td>jhon</td>\n",
       "      <td>0.237288</td>\n",
       "      <td>0.003895</td>\n",
       "      <td>1</td>\n",
       "    </tr>\n",
       "    <tr>\n",
       "      <td>35</td>\n",
       "      <td>lusica</td>\n",
       "      <td>0.796610</td>\n",
       "      <td>0.276572</td>\n",
       "      <td>3</td>\n",
       "    </tr>\n",
       "    <tr>\n",
       "      <td>36</td>\n",
       "      <td>ahemd</td>\n",
       "      <td>0.728814</td>\n",
       "      <td>0.237618</td>\n",
       "      <td>3</td>\n",
       "    </tr>\n",
       "    <tr>\n",
       "      <td>37</td>\n",
       "      <td>amol</td>\n",
       "      <td>0.389831</td>\n",
       "      <td>0.204229</td>\n",
       "      <td>2</td>\n",
       "    </tr>\n",
       "    <tr>\n",
       "      <td>38</td>\n",
       "      <td>ghini</td>\n",
       "      <td>0.322034</td>\n",
       "      <td>0.265442</td>\n",
       "      <td>2</td>\n",
       "    </tr>\n",
       "    <tr>\n",
       "      <td>39</td>\n",
       "      <td>rocky</td>\n",
       "      <td>0.491525</td>\n",
       "      <td>0.165275</td>\n",
       "      <td>2</td>\n",
       "    </tr>\n",
       "  </tbody>\n",
       "</table>\n",
       "</div>"
      ],
      "text/plain": [
       "        Name       Age    Income  cluster\n",
       "0        Rob  0.135593  0.376739        4\n",
       "1    Michael  0.169492  0.488036        4\n",
       "2      Mohan  0.169492  0.326656        4\n",
       "3     Ismail  0.152542  0.321091        4\n",
       "4       Kory  0.389831  0.821925        0\n",
       "5     Gautam  0.338983  0.849750        0\n",
       "6      David  0.372881  0.877574        0\n",
       "7     Andrea  0.322034  0.888703        0\n",
       "8       Brad  0.288136  0.855314        0\n",
       "9   Angelina  0.271186  0.710629        0\n",
       "10    Donald  0.305085  0.749583        0\n",
       "11       Tom  0.118644  0.237618        4\n",
       "12    Arnold  0.135593  0.254313        4\n",
       "13     Jared  0.152542  0.271007        4\n",
       "14     Stark  0.169492  0.262660        4\n",
       "15    Ranbir  0.220339  0.282137        4\n",
       "16    Dipika  0.355932  0.348915        2\n",
       "17  Priyanka  0.372881  0.337785        2\n",
       "18      Nick  0.406780  0.343350        2\n",
       "19      Alia  0.338983  0.432387        2\n",
       "20       Sid  0.372881  1.000000        0\n",
       "21     Abdul  0.338983  0.309961        2\n",
       "22      jay   0.000000  0.042849        1\n",
       "23       ram  0.016949  0.070673        1\n",
       "24      sham  0.525424  0.237618        2\n",
       "25      nick  0.440678  0.209794        2\n",
       "26       bob  1.000000  0.012243        3\n",
       "27       ana  0.101695  0.000000        1\n",
       "28     alice  0.440678  0.009460        2\n",
       "29      luci  0.271186  0.181970        2\n",
       "30      loca  0.474576  0.248748        2\n",
       "31     David  0.610169  0.015025        3\n",
       "32       sam  0.050847  0.098497        1\n",
       "33     carry  0.423729  0.209794        2\n",
       "34      jhon  0.237288  0.003895        1\n",
       "35    lusica  0.796610  0.276572        3\n",
       "36     ahemd  0.728814  0.237618        3\n",
       "37      amol  0.389831  0.204229        2\n",
       "38     ghini  0.322034  0.265442        2\n",
       "39     rocky  0.491525  0.165275        2"
      ]
     },
     "execution_count": 13,
     "metadata": {},
     "output_type": "execute_result"
    }
   ],
   "source": [
    "df['cluster']=y_predicted\n",
    "df.head(50)"
   ]
  },
  {
   "cell_type": "code",
   "execution_count": 14,
   "metadata": {},
   "outputs": [
    {
     "data": {
      "text/plain": [
       "array([[0.33262712, 0.84418475],\n",
       "       [0.08135593, 0.04318308],\n",
       "       [0.39951574, 0.25033786],\n",
       "       [0.78389831, 0.1353645 ],\n",
       "       [0.15819209, 0.31336178]])"
      ]
     },
     "execution_count": 14,
     "metadata": {},
     "output_type": "execute_result"
    }
   ],
   "source": [
    "km.cluster_centers_"
   ]
  },
  {
   "cell_type": "code",
   "execution_count": 15,
   "metadata": {},
   "outputs": [
    {
     "data": {
      "text/plain": [
       "<matplotlib.legend.Legend at 0x20fdb1ab988>"
      ]
     },
     "execution_count": 15,
     "metadata": {},
     "output_type": "execute_result"
    },
    {
     "data": {
      "image/png": "[encoded data removed]",
      "text/plain": [
       "<Figure size 432x288 with 1 Axes>"
      ]
     },
     "metadata": {
      "needs_background": "light"
     },
     "output_type": "display_data"
    }
   ],
   "source": [
    "df1 = df[df.cluster==0]\n",
    "df2 = df[df.cluster==1]\n",
    "df3 = df[df.cluster==2]\n",
    "df4 = df[df.cluster==3]\n",
    "df5 = df[df.cluster==4]\n",
    "plt.scatter(df1.Age,df1['Income'],color='green')\n",
    "plt.scatter(df2.Age,df2['Income'],color='red')\n",
    "plt.scatter(df3.Age,df3['Income'],color='black')\n",
    "plt.scatter(df4.Age,df4['Income'],color='blue')\n",
    "plt.scatter(df5.Age,df5['Income'],color='orange')\n",
    "plt.scatter(km.cluster_centers_[:,0],km.cluster_centers_[:,1],color='purple',marker='*',label='centroid')\n",
    "plt.xlabel('Age')\n",
    "plt.ylabel('Income')\n",
    "plt.legend()"
   ]
  },
  {
   "cell_type": "code",
   "execution_count": 16,
   "metadata": {},
   "outputs": [],
   "source": [
    "sse = []\n",
    "k_rng = range(1,11)\n",
    "for k in k_rng:\n",
    "    km = KMeans(n_clusters=k)\n",
    "    km.fit(df[['Age','Income']])\n",
    "    sse.append(km.inertia_)"
   ]
  },
  {
   "cell_type": "code",
   "execution_count": 17,
   "metadata": {},
   "outputs": [
    {
     "data": {
      "text/plain": [
       "[<matplotlib.lines.Line2D at 0x20fd8dcf9c8>]"
      ]
     },
     "execution_count": 17,
     "metadata": {},
     "output_type": "execute_result"
    },
    {
     "data": {
      "image/png": "[encoded data removed]",
      "text/plain": [
       "<Figure size 432x288 with 1 Axes>"
      ]
     },
     "metadata": {
      "needs_background": "light"
     },
     "output_type": "display_data"
    }
   ],
   "source": [
    "plt.xlabel('K')\n",
    "plt.ylabel('Sum of squared error')\n",
    "plt.plot(k_rng,sse)"
   ]
  },
  {
   "cell_type": "code",
   "execution_count": 18,
   "metadata": {},
   "outputs": [
    {
     "name": "stdout",
     "output_type": "stream",
     "text": [
      "        Name       Age    Income  cluster\n",
      "4       Kory  0.389831  0.821925        0\n",
      "5     Gautam  0.338983  0.849750        0\n",
      "6      David  0.372881  0.877574        0\n",
      "7     Andrea  0.322034  0.888703        0\n",
      "8       Brad  0.288136  0.855314        0\n",
      "9   Angelina  0.271186  0.710629        0\n",
      "10    Donald  0.305085  0.749583        0\n",
      "20       Sid  0.372881  1.000000        0\n",
      "    Name       Age    Income  cluster\n",
      "22  jay   0.000000  0.042849        1\n",
      "23   ram  0.016949  0.070673        1\n",
      "27   ana  0.101695  0.000000        1\n",
      "32   sam  0.050847  0.098497        1\n",
      "34  jhon  0.237288  0.003895        1\n",
      "        Name       Age    Income  cluster\n",
      "16    Dipika  0.355932  0.348915        2\n",
      "17  Priyanka  0.372881  0.337785        2\n",
      "18      Nick  0.406780  0.343350        2\n",
      "19      Alia  0.338983  0.432387        2\n",
      "21     Abdul  0.338983  0.309961        2\n",
      "24      sham  0.525424  0.237618        2\n",
      "25      nick  0.440678  0.209794        2\n",
      "28     alice  0.440678  0.009460        2\n",
      "29      luci  0.271186  0.181970        2\n",
      "30      loca  0.474576  0.248748        2\n",
      "33     carry  0.423729  0.209794        2\n",
      "37      amol  0.389831  0.204229        2\n",
      "38     ghini  0.322034  0.265442        2\n",
      "39     rocky  0.491525  0.165275        2\n",
      "      Name       Age    Income  cluster\n",
      "26     bob  1.000000  0.012243        3\n",
      "31   David  0.610169  0.015025        3\n",
      "35  lusica  0.796610  0.276572        3\n",
      "36   ahemd  0.728814  0.237618        3\n",
      "       Name       Age    Income  cluster\n",
      "0       Rob  0.135593  0.376739        4\n",
      "1   Michael  0.169492  0.488036        4\n",
      "2     Mohan  0.169492  0.326656        4\n",
      "3    Ismail  0.152542  0.321091        4\n",
      "11      Tom  0.118644  0.237618        4\n",
      "12   Arnold  0.135593  0.254313        4\n",
      "13    Jared  0.152542  0.271007        4\n",
      "14    Stark  0.169492  0.262660        4\n",
      "15   Ranbir  0.220339  0.282137        4\n"
     ]
    }
   ],
   "source": [
    "print(df1.head(50))\n",
    "print(df2.head(50))\n",
    "print(df3.head(50))\n",
    "print(df4.head(50))\n",
    "print(df5.head(50))"
   ]
  }
 ],
 "metadata": {
  "kernelspec": {
   "display_name": "Python 3",
   "language": "python",
   "name": "python3"
  },
  "language_info": {
   "codemirror_mode": {
    "name": "ipython",
    "version": 3
   },
   "file_extension": ".py",
   "mimetype": "text/x-python",
   "name": "python",
   "nbconvert_exporter": "python",
   "pygments_lexer": "ipython3",
   "version": "3.7.4"
  }
 },
 "nbformat": 4,
 "nbformat_minor": 2
}
